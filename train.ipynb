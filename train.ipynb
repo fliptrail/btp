{
 "cells": [
  {
   "cell_type": "code",
   "execution_count": 1,
   "source": [
    "%load_ext autoreload\n",
    "%autoreload 1\n",
    "import tensorflow as tf\n",
    "import numpy as np\n",
    "import matplotlib.pylab as plt\n",
    "%aimport mlp\n",
    "from mlp import mlp\n",
    "from sklearn.model_selection import train_test_split"
   ],
   "outputs": [],
   "metadata": {}
  },
  {
   "cell_type": "code",
   "execution_count": 2,
   "source": [
    "# load as array of numpy array objects\n",
    "x_data = np.load(\"x_data.npy\", allow_pickle=True)\n",
    "y_data = np.load(\"y_data.npy\", allow_pickle=True)"
   ],
   "outputs": [],
   "metadata": {}
  },
  {
   "cell_type": "code",
   "execution_count": 3,
   "source": [
    "curr_x_data = np.asarray(x_data[0], dtype=np.float64)\n",
    "curr_y_data = np.asarray(y_data[0], dtype=np.float64)\n",
    "x_train_temp, x_test_temp, y_train, y_test = train_test_split(curr_x_data, curr_y_data, test_size=0.2)\n",
    "x_train = np.pad((x_train_temp.reshape(x_train_temp.shape[0], 1)), pad_width=[(0, 0), (0, 99)], mode='edge')\n",
    "x_test = np.pad((x_test_temp.reshape(x_test_temp.shape[0], 1)), pad_width=[(0, 0), (0, 99)], mode='edge')\n",
    "print(x_train.shape)\n",
    "print(y_train.shape)\n",
    "print(x_test.shape)\n",
    "print(y_test.shape)"
   ],
   "outputs": [
    {
     "output_type": "stream",
     "name": "stdout",
     "text": [
      "(15080, 100)\n",
      "(15080,)\n",
      "(3770, 100)\n",
      "(3770,)\n"
     ]
    }
   ],
   "metadata": {}
  },
  {
   "cell_type": "code",
   "execution_count": 4,
   "source": [
    "model = mlp(100).model\n",
    "print(model.summary())"
   ],
   "outputs": [
    {
     "output_type": "stream",
     "name": "stdout",
     "text": [
      "Model: \"mlp\"\n",
      "_________________________________________________________________\n",
      "Layer (type)                 Output Shape              Param #   \n",
      "=================================================================\n",
      "input_1 (InputLayer)         [(None, 100)]             0         \n",
      "_________________________________________________________________\n",
      "dense (Dense)                (None, 1)                 101       \n",
      "=================================================================\n",
      "Total params: 101\n",
      "Trainable params: 101\n",
      "Non-trainable params: 0\n",
      "_________________________________________________________________\n",
      "None\n"
     ]
    }
   ],
   "metadata": {}
  },
  {
   "cell_type": "code",
   "execution_count": 20,
   "source": [
    "loss = tf.keras.losses.MeanSquaredError()\n",
    "optimizer = tf.keras.optimizers.Adam()\n",
    "\n",
    "model.compile(loss=loss, optimizer=optimizer)"
   ],
   "outputs": [],
   "metadata": {}
  },
  {
   "cell_type": "code",
   "execution_count": 22,
   "source": [
    "history = model.fit(x_train, y_train, validation_data=(x_test, y_test), batch_size=100, epochs=10)"
   ],
   "outputs": [
    {
     "output_type": "stream",
     "name": "stdout",
     "text": [
      "Epoch 1/10\n",
      "1508/1508 [==============================] - 4s 2ms/step - loss: 0.5014 - val_loss: 0.4942\n",
      "Epoch 2/10\n",
      "1508/1508 [==============================] - 4s 2ms/step - loss: 0.5014 - val_loss: 0.4942\n",
      "Epoch 3/10\n",
      "1508/1508 [==============================] - 3s 2ms/step - loss: 0.5014 - val_loss: 0.4942\n",
      "Epoch 4/10\n",
      "1508/1508 [==============================] - 4s 3ms/step - loss: 0.5014 - val_loss: 0.4942\n",
      "Epoch 5/10\n",
      "1508/1508 [==============================] - 4s 2ms/step - loss: 0.5014 - val_loss: 0.4942\n",
      "Epoch 6/10\n",
      "1508/1508 [==============================] - 4s 2ms/step - loss: 0.5014 - val_loss: 0.4942\n",
      "Epoch 7/10\n",
      "1508/1508 [==============================] - 3s 2ms/step - loss: 0.5014 - val_loss: 0.4942\n",
      "Epoch 8/10\n",
      "1508/1508 [==============================] - 3s 2ms/step - loss: 0.5014 - val_loss: 0.4942\n",
      "Epoch 9/10\n",
      "1508/1508 [==============================] - 3s 2ms/step - loss: 0.5014 - val_loss: 0.4942\n",
      "Epoch 10/10\n",
      "1508/1508 [==============================] - 3s 2ms/step - loss: 0.5014 - val_loss: 0.4942\n"
     ]
    }
   ],
   "metadata": {}
  },
  {
   "cell_type": "code",
   "execution_count": 27,
   "source": [
    "x_train = np.pad((x_train_temp.reshape(x_train_temp.shape[0], 1)), pad_width=[(0, 0), (0, 999)], mode='edge')\n",
    "x_test = np.pad((x_test_temp.reshape(x_test_temp.shape[0], 1)), pad_width=[(0, 0), (0, 999)], mode='edge')"
   ],
   "outputs": [],
   "metadata": {}
  },
  {
   "cell_type": "code",
   "execution_count": 29,
   "source": [
    "model = mlp(1000).model\n",
    "print(model.summary())\n",
    "model.compile(loss=loss, optimizer=optimizer)\n",
    "history = model.fit(x_train, y_train, validation_data=(x_test, y_test), batch_size=100, epochs=15)"
   ],
   "outputs": [
    {
     "output_type": "stream",
     "name": "stdout",
     "text": [
      "Model: \"mlp\"\n",
      "_________________________________________________________________\n",
      "Layer (type)                 Output Shape              Param #   \n",
      "=================================================================\n",
      "input_6 (InputLayer)         [(None, 1000)]            0         \n",
      "_________________________________________________________________\n",
      "dense_5 (Dense)              (None, 1)                 1001      \n",
      "=================================================================\n",
      "Total params: 1,001\n",
      "Trainable params: 1,001\n",
      "Non-trainable params: 0\n",
      "_________________________________________________________________\n",
      "None\n",
      "Epoch 1/15\n",
      "151/151 [==============================] - 1s 3ms/step - loss: 6.1791 - val_loss: 0.4717\n",
      "Epoch 2/15\n",
      "151/151 [==============================] - 0s 3ms/step - loss: 0.4909 - val_loss: 0.4700\n",
      "Epoch 3/15\n",
      "151/151 [==============================] - 0s 3ms/step - loss: 0.4821 - val_loss: 0.4942\n",
      "Epoch 4/15\n",
      "151/151 [==============================] - 0s 3ms/step - loss: 0.4984 - val_loss: 0.4942\n",
      "Epoch 5/15\n",
      "151/151 [==============================] - 0s 3ms/step - loss: 0.4924 - val_loss: 0.4942\n",
      "Epoch 6/15\n",
      "151/151 [==============================] - 1s 3ms/step - loss: 0.4845 - val_loss: 0.4846\n",
      "Epoch 7/15\n",
      "151/151 [==============================] - 0s 3ms/step - loss: 0.4801 - val_loss: 0.4755\n",
      "Epoch 8/15\n",
      "151/151 [==============================] - 0s 3ms/step - loss: 0.4881 - val_loss: 0.4942\n",
      "Epoch 9/15\n",
      "151/151 [==============================] - 0s 3ms/step - loss: 0.4823 - val_loss: 0.4628\n",
      "Epoch 10/15\n",
      "151/151 [==============================] - 0s 3ms/step - loss: 0.5010 - val_loss: 0.4942\n",
      "Epoch 11/15\n",
      "151/151 [==============================] - 0s 3ms/step - loss: 0.5014 - val_loss: 0.4942\n",
      "Epoch 12/15\n",
      "151/151 [==============================] - 0s 3ms/step - loss: 0.5014 - val_loss: 0.4942\n",
      "Epoch 13/15\n",
      "151/151 [==============================] - 0s 3ms/step - loss: 0.5014 - val_loss: 0.4942\n",
      "Epoch 14/15\n",
      "151/151 [==============================] - 0s 3ms/step - loss: 0.5014 - val_loss: 0.4942\n",
      "Epoch 15/15\n",
      "151/151 [==============================] - 0s 3ms/step - loss: 0.5014 - val_loss: 0.4942\n"
     ]
    }
   ],
   "metadata": {}
  },
  {
   "cell_type": "code",
   "execution_count": null,
   "source": [],
   "outputs": [],
   "metadata": {}
  }
 ],
 "metadata": {
  "orig_nbformat": 4,
  "language_info": {
   "name": "python",
   "version": "3.9.7",
   "mimetype": "text/x-python",
   "codemirror_mode": {
    "name": "ipython",
    "version": 3
   },
   "pygments_lexer": "ipython3",
   "nbconvert_exporter": "python",
   "file_extension": ".py"
  },
  "kernelspec": {
   "name": "python3",
   "display_name": "Python 3.9.7 64-bit ('periodic': conda)"
  },
  "interpreter": {
   "hash": "36c61cfefb7c0281a0e01a896607e068121f300765dab6004d7d739b8b05ff06"
  }
 },
 "nbformat": 4,
 "nbformat_minor": 2
}